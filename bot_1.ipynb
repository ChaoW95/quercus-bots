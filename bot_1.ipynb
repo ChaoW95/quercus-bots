{
 "cells": [
  {
   "cell_type": "code",
   "execution_count": null,
   "metadata": {},
   "outputs": [],
   "source": [
    "# The MIT License (MIT)\n",
    "# Copyright (c) 2020 Mehdi Ataei\n",
    "\n",
    "# Import the Canvas class\n",
    "from canvasapi import Canvas\n",
    "import pandas as pd\n",
    "# Canvas API URL (this link is for UofT API)\n",
    "API_URL = \"https://q.utoronto.ca/api/v1\"\n",
    "# Canvas API key (put yours here)\n",
    "API_KEY = \"\"\n",
    "\n",
    "canvas = Canvas(API_URL, API_KEY)\n",
    "\n",
    "course_id = 139200\n",
    "assignment_id = 321682"
   ]
  },
  {
   "cell_type": "code",
   "execution_count": null,
   "metadata": {},
   "outputs": [],
   "source": [
    "# Get submissions in a dict with the student id as key\n",
    "def get_all_submissions(users, course, assignment):\n",
    "    submissions = {}\n",
    "    for user in users:\n",
    "        submissions[user.integration_id] = assignment.get_submission(\n",
    "            user.id, include=['submission_comments'])\n",
    "       \n",
    "    return submissions  "
   ]
  },
  {
   "cell_type": "code",
   "execution_count": null,
   "metadata": {},
   "outputs": [],
   "source": [
    "# Upload and put comment for one submission\n",
    "def upload_grade_with_comment(submission, grade, ta_comment):\n",
    "    \n",
    "    comment = submission.submission_comments\n",
    "    submission.edit(comment={'text_comment': ta_comment },\n",
    "                    submission={'posted_grade': grade})"
   ]
  },
  {
   "cell_type": "code",
   "execution_count": null,
   "metadata": {},
   "outputs": [],
   "source": [
    "# Read data (this part is specific to this assignment)\n",
    "df = pd.read_excel('grades.xlsx')"
   ]
  },
  {
   "cell_type": "code",
   "execution_count": null,
   "metadata": {},
   "outputs": [],
   "source": [
    "# Clean data (this part is specific to this assignment)\n",
    "df = df.fillna('')\n",
    "df['Student Number'] = df['Student Number'].astype(int)"
   ]
  },
  {
   "cell_type": "code",
   "execution_count": null,
   "metadata": {},
   "outputs": [],
   "source": [
    "# Create comment dynamically (this part is specific to this assignment)\n",
    "results = {}\n",
    "for index, row in df.iterrows():\n",
    "         \n",
    "    student_comment = 'grading TA: ' + row.iloc[6] + ' '\n",
    "    for i in range(8,30):\n",
    "        student_comment += str(row.iloc[i]) + ' '\n",
    "           \n",
    "    results[row.iloc[1]] = {'comment': student_comment,\n",
    "                            'grade': row['Total']}\n",
    "    \n",
    "print(results)"
   ]
  },
  {
   "cell_type": "code",
   "execution_count": null,
   "metadata": {},
   "outputs": [],
   "source": [
    "# Request the course, users, and the assignment\n",
    "course = canvas.get_course(course_id)\n",
    "users = course.get_users(enrollment_type=['student'])\n",
    "assignment = course.get_assignment(assignment_id)"
   ]
  },
  {
   "cell_type": "code",
   "execution_count": null,
   "metadata": {
    "scrolled": true
   },
   "outputs": [],
   "source": [
    "submissions = get_all_submissions(users, course, assignment)"
   ]
  },
  {
   "cell_type": "code",
   "execution_count": null,
   "metadata": {},
   "outputs": [],
   "source": [
    "# Convert all keys (student ids) to int\n",
    "submissions = {int(k):v for k,v in submissions.items()}"
   ]
  },
  {
   "cell_type": "code",
   "execution_count": null,
   "metadata": {},
   "outputs": [],
   "source": [
    "# Post grades and comments automatically\n",
    "for student_num, submission in submissions.items():\n",
    "    try:\n",
    "\n",
    "        grade = results[student_num]['grade']\n",
    "        ta_comment = results[student_num]['comment']\n",
    "\n",
    "        upload_grade_with_comment(submission, grade, ta_comment)\n",
    "\n",
    "    except KeyError:\n",
    "        \n",
    "        print('error')"
   ]
  }
 ],
 "metadata": {
  "kernelspec": {
   "display_name": "Python 3",
   "language": "python",
   "name": "python3"
  },
  "language_info": {
   "codemirror_mode": {
    "name": "ipython",
    "version": 3
   },
   "file_extension": ".py",
   "mimetype": "text/x-python",
   "name": "python",
   "nbconvert_exporter": "python",
   "pygments_lexer": "ipython3",
   "version": "3.7.7"
  }
 },
 "nbformat": 4,
 "nbformat_minor": 2
}
