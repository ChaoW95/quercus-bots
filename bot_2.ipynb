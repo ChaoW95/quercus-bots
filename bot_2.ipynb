{
 "cells": [
  {
   "cell_type": "code",
   "execution_count": null,
   "metadata": {},
   "outputs": [],
   "source": [
    "# The MIT License (MIT)\n",
    "# Copyright (c) 2020 Mehdi Ataei\n",
    "\n",
    "# Import the Canvas class\n",
    "from canvasapi import Canvas\n",
    "import pandas as pd\n",
    "import math\n",
    "# Canvas API URL (this link is for UofT API)\n",
    "API_URL = \"https://q.utoronto.ca\"\n",
    "# Canvas API key (put yours here)\n",
    "API_KEY = \"\"\n",
    "\n",
    "canvas = Canvas(API_URL, API_KEY)\n"
   ]
  },
  {
   "cell_type": "code",
   "execution_count": null,
   "metadata": {},
   "outputs": [],
   "source": [
    "# Request the course, users, and the assignment\n",
    "course_id = 123456\n",
    "\n",
    "course = canvas.get_course(course_id)\n",
    "users = course.get_users(enrollment_type=['student'])\n",
    "assignments = course.get_assignments(bucket='ungraded')"
   ]
  },
  {
   "cell_type": "code",
   "execution_count": null,
   "metadata": {},
   "outputs": [],
   "source": [
    "print('Ungraded assignments:')\n",
    "for assignment in assignments:\n",
    "    print(assignment)"
   ]
  },
  {
   "cell_type": "code",
   "execution_count": null,
   "metadata": {},
   "outputs": [],
   "source": [
    "for assignment in assignments:\n",
    "    \n",
    "    submissions = assignment.get_submissions()\n",
    "\n",
    "    for submission in submissions:\n",
    "\n",
    "            deduction = 0\n",
    "\n",
    "            if submission.seconds_late > 900:\n",
    "                deduction = math.ceil(submission.seconds_late / 86400)\n",
    "                print(\"Assignment of user {} is {:d} days late\".format(submission.user_id, deduction))\n",
    "\n",
    "            score = 10 - deduction\n",
    "            if score < 0:\n",
    "                score = 0\n",
    "\n",
    "            submission.edit(submission={'posted_grade': score})"
   ]
  }
 ],
 "metadata": {
  "kernelspec": {
   "display_name": "Python 3",
   "language": "python",
   "name": "python3"
  },
  "language_info": {
   "codemirror_mode": {
    "name": "ipython",
    "version": 3
   },
   "file_extension": ".py",
   "mimetype": "text/x-python",
   "name": "python",
   "nbconvert_exporter": "python",
   "pygments_lexer": "ipython3",
   "version": "3.7.6"
  }
 },
 "nbformat": 4,
 "nbformat_minor": 4
}
